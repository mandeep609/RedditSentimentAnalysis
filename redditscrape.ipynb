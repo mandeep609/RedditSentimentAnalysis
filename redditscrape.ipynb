{
 "cells": [
  {
   "cell_type": "code",
   "execution_count": 1,
   "id": "7f0cf1bc",
   "metadata": {},
   "outputs": [],
   "source": [
    "from IPython import display\n",
    "import math\n",
    "from pprint import pprint\n",
    "import pandas as pd\n",
    "import numpy as np\n",
    "import nltk\n",
    "import matplotlib.pyplot as plt\n",
    "import seaborn as sns\n",
    "sns.set(style='darkgrid', context='talk', palette='Dark2')"
   ]
  },
  {
   "cell_type": "code",
   "execution_count": 2,
   "id": "56a9834e",
   "metadata": {},
   "outputs": [
    {
     "name": "stdout",
     "output_type": "stream",
     "text": [
      "Defaulting to user installation because normal site-packages is not writeable\n",
      "Collecting praw\n",
      "  Downloading praw-7.7.1-py3-none-any.whl (191 kB)\n",
      "     -------------------------------------- 191.0/191.0 kB 2.3 MB/s eta 0:00:00\n",
      "Requirement already satisfied: websocket-client>=0.54.0 in d:\\installed\\anaconda\\lib\\site-packages (from praw) (0.58.0)\n",
      "Collecting update-checker>=0.18\n",
      "  Downloading update_checker-0.18.0-py3-none-any.whl (7.0 kB)\n",
      "Collecting prawcore<3,>=2.1\n",
      "  Downloading prawcore-2.4.0-py3-none-any.whl (17 kB)\n",
      "Requirement already satisfied: requests<3.0,>=2.6.0 in c:\\users\\coolb\\appdata\\roaming\\python\\python310\\site-packages (from prawcore<3,>=2.1->praw) (2.28.2)\n",
      "Requirement already satisfied: six in d:\\installed\\anaconda\\lib\\site-packages (from websocket-client>=0.54.0->praw) (1.16.0)\n",
      "Requirement already satisfied: certifi>=2017.4.17 in c:\\users\\coolb\\appdata\\roaming\\python\\python310\\site-packages (from requests<3.0,>=2.6.0->prawcore<3,>=2.1->praw) (2022.12.7)\n",
      "Requirement already satisfied: urllib3<1.27,>=1.21.1 in c:\\users\\coolb\\appdata\\roaming\\python\\python310\\site-packages (from requests<3.0,>=2.6.0->prawcore<3,>=2.1->praw) (1.26.15)\n",
      "Requirement already satisfied: idna<4,>=2.5 in d:\\installed\\anaconda\\lib\\site-packages (from requests<3.0,>=2.6.0->prawcore<3,>=2.1->praw) (3.4)\n",
      "Requirement already satisfied: charset-normalizer<4,>=2 in c:\\users\\coolb\\appdata\\roaming\\python\\python310\\site-packages (from requests<3.0,>=2.6.0->prawcore<3,>=2.1->praw) (3.1.0)\n",
      "Installing collected packages: update-checker, prawcore, praw\n",
      "Successfully installed praw-7.7.1 prawcore-2.4.0 update-checker-0.18.0\n"
     ]
    },
    {
     "name": "stderr",
     "output_type": "stream",
     "text": [
      "WARNING: Ignoring invalid distribution -ensorflow-intel (c:\\users\\coolb\\appdata\\roaming\\python\\python310\\site-packages)\n",
      "WARNING: Ignoring invalid distribution -ensorflow-intel (c:\\users\\coolb\\appdata\\roaming\\python\\python310\\site-packages)\n",
      "WARNING: Ignoring invalid distribution -ensorflow-intel (c:\\users\\coolb\\appdata\\roaming\\python\\python310\\site-packages)\n",
      "WARNING: Ignoring invalid distribution -ensorflow-intel (c:\\users\\coolb\\appdata\\roaming\\python\\python310\\site-packages)\n",
      "WARNING: Ignoring invalid distribution -ensorflow-intel (c:\\users\\coolb\\appdata\\roaming\\python\\python310\\site-packages)\n",
      "WARNING: Ignoring invalid distribution -ensorflow-intel (c:\\users\\coolb\\appdata\\roaming\\python\\python310\\site-packages)\n",
      "WARNING: Ignoring invalid distribution -ensorflow-intel (c:\\users\\coolb\\appdata\\roaming\\python\\python310\\site-packages)\n",
      "WARNING: Ignoring invalid distribution -ensorflow-intel (c:\\users\\coolb\\appdata\\roaming\\python\\python310\\site-packages)\n",
      "WARNING: Ignoring invalid distribution -ensorflow-intel (c:\\users\\coolb\\appdata\\roaming\\python\\python310\\site-packages)\n"
     ]
    }
   ],
   "source": [
    "!pip install praw"
   ]
  },
  {
   "cell_type": "code",
   "execution_count": 3,
   "id": "cceebc6d",
   "metadata": {},
   "outputs": [],
   "source": [
    "import praw"
   ]
  },
  {
   "cell_type": "code",
   "execution_count": 4,
   "id": "483adb88",
   "metadata": {},
   "outputs": [],
   "source": [
    "reddit = praw.Reddit(client_id='EQHciCl7TGA_z5gFzM5Jtg',\n",
    "                     client_secret='iCcYUtz6ENDCi9Rtj_p0jBc_LdApYg',\n",
    "                     user_agent='newapp')"
   ]
  },
  {
   "cell_type": "code",
   "execution_count": 5,
   "id": "e62a91be",
   "metadata": {},
   "outputs": [],
   "source": [
    "headlines = set()\n",
    "#a set for our headlines so we don't get duplicates when running multiple times"
   ]
  },
  {
   "cell_type": "code",
   "execution_count": 6,
   "id": "1de9eba6",
   "metadata": {},
   "outputs": [
    {
     "name": "stdout",
     "output_type": "stream",
     "text": [
      "928\n"
     ]
    }
   ],
   "source": [
    "#we iterating through the /r/politics subreddit using the API client\n",
    "for submission in reddit.subreddit('politics').new(limit=None):\n",
    "    headlines.add(submission.title)\n",
    "    display.clear_output()\n",
    "    print(len(headlines))"
   ]
  },
  {
   "cell_type": "code",
   "execution_count": 9,
   "id": "c2d492f6",
   "metadata": {},
   "outputs": [
    {
     "name": "stderr",
     "output_type": "stream",
     "text": [
      "[nltk_data] Downloading package vader_lexicon to\n",
      "[nltk_data]     C:\\Users\\coolb\\AppData\\Roaming\\nltk_data...\n"
     ]
    },
    {
     "data": {
      "text/plain": [
       "True"
      ]
     },
     "execution_count": 9,
     "metadata": {},
     "output_type": "execute_result"
    }
   ],
   "source": [
    "  import nltk\n",
    "  nltk.download('vader_lexicon')"
   ]
  },
  {
   "cell_type": "code",
   "execution_count": 10,
   "id": "62fa755d",
   "metadata": {},
   "outputs": [
    {
     "name": "stdout",
     "output_type": "stream",
     "text": [
      "[{'compound': 0.4019,\n",
      "  'headline': 'Immigration to Boost US GDP by $7 Trillion Over Decade, CBO Says',\n",
      "  'neg': 0.0,\n",
      "  'neu': 0.803,\n",
      "  'pos': 0.197},\n",
      " {'compound': -0.4615,\n",
      "  'headline': \"Trump's 'remarkably dishonest acceptance speech' at the RNC devolved into boring TV\",\n",
      "  'neg': 0.339,\n",
      "  'neu': 0.485,\n",
      "  'pos': 0.177},\n",
      " {'compound': 0.0,\n",
      "  'headline': \"Why won't George W. Bush talk publicly about Donald Trump? It's simple\",\n",
      "  'neg': 0.0,\n",
      "  'neu': 1.0,\n",
      "  'pos': 0.0}]\n"
     ]
    }
   ],
   "source": [
    "from nltk.sentiment.vader import SentimentIntensityAnalyzer as SIA\n",
    "\n",
    "sia = SIA()\n",
    "results = []\n",
    "\n",
    "for line in headlines:\n",
    "    pol_score = sia.polarity_scores(line)\n",
    "    pol_score['headline'] = line\n",
    "    results.append(pol_score)\n",
    "\n",
    "pprint(results[:3], width=100)"
   ]
  },
  {
   "cell_type": "code",
   "execution_count": 11,
   "id": "02d28e4b",
   "metadata": {},
   "outputs": [
    {
     "data": {
      "text/html": [
       "<div>\n",
       "<style scoped>\n",
       "    .dataframe tbody tr th:only-of-type {\n",
       "        vertical-align: middle;\n",
       "    }\n",
       "\n",
       "    .dataframe tbody tr th {\n",
       "        vertical-align: top;\n",
       "    }\n",
       "\n",
       "    .dataframe thead th {\n",
       "        text-align: right;\n",
       "    }\n",
       "</style>\n",
       "<table border=\"1\" class=\"dataframe\">\n",
       "  <thead>\n",
       "    <tr style=\"text-align: right;\">\n",
       "      <th></th>\n",
       "      <th>neg</th>\n",
       "      <th>neu</th>\n",
       "      <th>pos</th>\n",
       "      <th>compound</th>\n",
       "      <th>headline</th>\n",
       "    </tr>\n",
       "  </thead>\n",
       "  <tbody>\n",
       "    <tr>\n",
       "      <th>0</th>\n",
       "      <td>0.000</td>\n",
       "      <td>0.803</td>\n",
       "      <td>0.197</td>\n",
       "      <td>0.4019</td>\n",
       "      <td>Immigration to Boost US GDP by $7 Trillion Ove...</td>\n",
       "    </tr>\n",
       "    <tr>\n",
       "      <th>1</th>\n",
       "      <td>0.339</td>\n",
       "      <td>0.485</td>\n",
       "      <td>0.177</td>\n",
       "      <td>-0.4615</td>\n",
       "      <td>Trump's 'remarkably dishonest acceptance speec...</td>\n",
       "    </tr>\n",
       "    <tr>\n",
       "      <th>2</th>\n",
       "      <td>0.000</td>\n",
       "      <td>1.000</td>\n",
       "      <td>0.000</td>\n",
       "      <td>0.0000</td>\n",
       "      <td>Why won't George W. Bush talk publicly about D...</td>\n",
       "    </tr>\n",
       "    <tr>\n",
       "      <th>3</th>\n",
       "      <td>0.000</td>\n",
       "      <td>1.000</td>\n",
       "      <td>0.000</td>\n",
       "      <td>0.0000</td>\n",
       "      <td>'Agency in crisis': Secret Service has decade-...</td>\n",
       "    </tr>\n",
       "    <tr>\n",
       "      <th>4</th>\n",
       "      <td>0.000</td>\n",
       "      <td>1.000</td>\n",
       "      <td>0.000</td>\n",
       "      <td>0.0000</td>\n",
       "      <td>Menendez Conviction Is a Rare Public Corruptio...</td>\n",
       "    </tr>\n",
       "  </tbody>\n",
       "</table>\n",
       "</div>"
      ],
      "text/plain": [
       "     neg    neu    pos  compound   \n",
       "0  0.000  0.803  0.197    0.4019  \\\n",
       "1  0.339  0.485  0.177   -0.4615   \n",
       "2  0.000  1.000  0.000    0.0000   \n",
       "3  0.000  1.000  0.000    0.0000   \n",
       "4  0.000  1.000  0.000    0.0000   \n",
       "\n",
       "                                            headline  \n",
       "0  Immigration to Boost US GDP by $7 Trillion Ove...  \n",
       "1  Trump's 'remarkably dishonest acceptance speec...  \n",
       "2  Why won't George W. Bush talk publicly about D...  \n",
       "3  'Agency in crisis': Secret Service has decade-...  \n",
       "4  Menendez Conviction Is a Rare Public Corruptio...  "
      ]
     },
     "execution_count": 11,
     "metadata": {},
     "output_type": "execute_result"
    }
   ],
   "source": [
    "df = pd.DataFrame.from_records(results)\n",
    "df.head()"
   ]
  },
  {
   "cell_type": "code",
   "execution_count": 12,
   "id": "78e9d2ad",
   "metadata": {},
   "outputs": [
    {
     "data": {
      "text/html": [
       "<div>\n",
       "<style scoped>\n",
       "    .dataframe tbody tr th:only-of-type {\n",
       "        vertical-align: middle;\n",
       "    }\n",
       "\n",
       "    .dataframe tbody tr th {\n",
       "        vertical-align: top;\n",
       "    }\n",
       "\n",
       "    .dataframe thead th {\n",
       "        text-align: right;\n",
       "    }\n",
       "</style>\n",
       "<table border=\"1\" class=\"dataframe\">\n",
       "  <thead>\n",
       "    <tr style=\"text-align: right;\">\n",
       "      <th></th>\n",
       "      <th>neg</th>\n",
       "      <th>neu</th>\n",
       "      <th>pos</th>\n",
       "      <th>compound</th>\n",
       "      <th>headline</th>\n",
       "      <th>label</th>\n",
       "    </tr>\n",
       "  </thead>\n",
       "  <tbody>\n",
       "    <tr>\n",
       "      <th>0</th>\n",
       "      <td>0.000</td>\n",
       "      <td>0.803</td>\n",
       "      <td>0.197</td>\n",
       "      <td>0.4019</td>\n",
       "      <td>Immigration to Boost US GDP by $7 Trillion Ove...</td>\n",
       "      <td>1</td>\n",
       "    </tr>\n",
       "    <tr>\n",
       "      <th>1</th>\n",
       "      <td>0.339</td>\n",
       "      <td>0.485</td>\n",
       "      <td>0.177</td>\n",
       "      <td>-0.4615</td>\n",
       "      <td>Trump's 'remarkably dishonest acceptance speec...</td>\n",
       "      <td>-1</td>\n",
       "    </tr>\n",
       "    <tr>\n",
       "      <th>2</th>\n",
       "      <td>0.000</td>\n",
       "      <td>1.000</td>\n",
       "      <td>0.000</td>\n",
       "      <td>0.0000</td>\n",
       "      <td>Why won't George W. Bush talk publicly about D...</td>\n",
       "      <td>0</td>\n",
       "    </tr>\n",
       "    <tr>\n",
       "      <th>3</th>\n",
       "      <td>0.000</td>\n",
       "      <td>1.000</td>\n",
       "      <td>0.000</td>\n",
       "      <td>0.0000</td>\n",
       "      <td>'Agency in crisis': Secret Service has decade-...</td>\n",
       "      <td>0</td>\n",
       "    </tr>\n",
       "    <tr>\n",
       "      <th>4</th>\n",
       "      <td>0.000</td>\n",
       "      <td>1.000</td>\n",
       "      <td>0.000</td>\n",
       "      <td>0.0000</td>\n",
       "      <td>Menendez Conviction Is a Rare Public Corruptio...</td>\n",
       "      <td>0</td>\n",
       "    </tr>\n",
       "  </tbody>\n",
       "</table>\n",
       "</div>"
      ],
      "text/plain": [
       "     neg    neu    pos  compound   \n",
       "0  0.000  0.803  0.197    0.4019  \\\n",
       "1  0.339  0.485  0.177   -0.4615   \n",
       "2  0.000  1.000  0.000    0.0000   \n",
       "3  0.000  1.000  0.000    0.0000   \n",
       "4  0.000  1.000  0.000    0.0000   \n",
       "\n",
       "                                            headline  label  \n",
       "0  Immigration to Boost US GDP by $7 Trillion Ove...      1  \n",
       "1  Trump's 'remarkably dishonest acceptance speec...     -1  \n",
       "2  Why won't George W. Bush talk publicly about D...      0  \n",
       "3  'Agency in crisis': Secret Service has decade-...      0  \n",
       "4  Menendez Conviction Is a Rare Public Corruptio...      0  "
      ]
     },
     "execution_count": 12,
     "metadata": {},
     "output_type": "execute_result"
    }
   ],
   "source": [
    "df['label'] = 0\n",
    "df.loc[df['compound'] > 0.2, 'label'] = 1\n",
    "df.loc[df['compound'] < -0.2, 'label'] = -1\n",
    "df.head()\n",
    "\n",
    "# We are creating a positive label of 1 if the compound is greater than 0.2, and a label of -1 if compound is less than -0.2."
   ]
  },
  {
   "cell_type": "code",
   "execution_count": 13,
   "id": "2234b6e5",
   "metadata": {},
   "outputs": [],
   "source": [
    "df2 = df[['headline', 'label']]\n",
    "df2.to_csv('reddit_headlines_labels.csv', mode='a', encoding='utf-8', index=False)"
   ]
  },
  {
   "cell_type": "code",
   "execution_count": 14,
   "id": "aa5bb301",
   "metadata": {},
   "outputs": [
    {
     "name": "stdout",
     "output_type": "stream",
     "text": [
      "Positive headlines:\n",
      "\n",
      "['Immigration to Boost US GDP by $7 Trillion Over Decade, CBO Says',\n",
      " \"Gov. Beshear signs driver's license agreement between Kentucky and South Korea\",\n",
      " 'At a WWE-infused RNC, Trump seemed like a washed-up wrestler Trump’s RNC speech droned on for what seemed like an eternity. And his faux machismo, combined with his meandering diatribes, had him '\n",
      " 'sounding like a wrestler past his prime.',\n",
      " 'The 18 best (& funniest) comments about Trump’s rambling acceptance speech that put people to sleep',\n",
      " \"Biden won't drop out, campaign insists in a new memo\"]\n",
      "\n",
      "Negative headlines:\n",
      "\n",
      "[\"Trump's 'remarkably dishonest acceptance speech' at the RNC devolved into boring TV\",\n",
      " 'Trump urges unity after assassination attempt while proposing sweeping populist agenda in RNC finale',\n",
      " 'Trump Site Launches Limited-Edition Assassination Attempt Sneakers',\n",
      " 'Heinrich calls on Biden to drop out of US presidential race',\n",
      " 'California judge sides with elementary school against 7-year-old girl who was punished harshly over BLM message']\n"
     ]
    }
   ],
   "source": [
    "print(\"Positive headlines:\\n\")\n",
    "pprint(list(df[df['label'] == 1].headline)[:5], width=200)\n",
    "\n",
    "print(\"\\nNegative headlines:\\n\")\n",
    "pprint(list(df[df['label'] == -1].headline)[:5], width=200)"
   ]
  },
  {
   "cell_type": "code",
   "execution_count": 15,
   "id": "466d4518",
   "metadata": {},
   "outputs": [
    {
     "name": "stdout",
     "output_type": "stream",
     "text": [
      "label\n",
      " 0    454\n",
      "-1    268\n",
      " 1    206\n",
      "Name: count, dtype: int64\n",
      "label\n",
      " 0    48.922414\n",
      "-1    28.879310\n",
      " 1    22.198276\n",
      "Name: proportion, dtype: float64\n"
     ]
    }
   ],
   "source": [
    "print(df.label.value_counts())\n",
    "\n",
    "print(df.label.value_counts(normalize=True) * 100)"
   ]
  },
  {
   "cell_type": "code",
   "execution_count": 16,
   "id": "54f2f1c2",
   "metadata": {},
   "outputs": [
    {
     "data": {
      "image/png": "[encoded data removed]",
      "text/plain": [
       "<Figure size 800x800 with 1 Axes>"
      ]
     },
     "metadata": {},
     "output_type": "display_data"
    }
   ],
   "source": [
    "fig, ax = plt.subplots(figsize=(8, 8))\n",
    "\n",
    "counts = df.label.value_counts(normalize=True) * 100\n",
    "\n",
    "sns.barplot(x=counts.index, y=counts, ax=ax)\n",
    "\n",
    "ax.set_xticklabels(['Negative', 'Neutral', 'Positive'])\n",
    "ax.set_ylabel(\"Percentage\")\n",
    "\n",
    "plt.show()"
   ]
  },
  {
   "cell_type": "code",
   "execution_count": 17,
   "id": "82508eb5",
   "metadata": {},
   "outputs": [
    {
     "name": "stdout",
     "output_type": "stream",
     "text": [
      "['This', 'is', 'an', 'example', 'sentence', '!', 'However', ',', 'it', 'is', \"n't\", 'a', 'very', 'informative', 'one']\n"
     ]
    }
   ],
   "source": [
    "from nltk.tokenize import word_tokenize, RegexpTokenizer\n",
    "\n",
    "example = \"This is an example sentence! However, it isn't a very informative one\"\n",
    "\n",
    "print(word_tokenize(example, language='english'))"
   ]
  },
  {
   "cell_type": "code",
   "execution_count": 18,
   "id": "d37e96e6",
   "metadata": {},
   "outputs": [
    {
     "data": {
      "text/plain": [
       "['This',\n",
       " 'is',\n",
       " 'an',\n",
       " 'example',\n",
       " 'sentence',\n",
       " 'However',\n",
       " 'it',\n",
       " 'isn',\n",
       " 't',\n",
       " 'a',\n",
       " 'very',\n",
       " 'informative',\n",
       " 'one']"
      ]
     },
     "execution_count": 18,
     "metadata": {},
     "output_type": "execute_result"
    }
   ],
   "source": [
    "tokenizer = RegexpTokenizer(r'\\w+')\n",
    "tokenizer.tokenize(example)"
   ]
  },
  {
   "cell_type": "code",
   "execution_count": 19,
   "id": "338b463d",
   "metadata": {},
   "outputs": [
    {
     "name": "stdout",
     "output_type": "stream",
     "text": [
      "['i', 'me', 'my', 'myself', 'we', 'our', 'ours', 'ourselves', 'you', \"you're\", \"you've\", \"you'll\", \"you'd\", 'your', 'yours', 'yourself', 'yourselves', 'he', 'him', 'his']\n"
     ]
    }
   ],
   "source": [
    "from nltk.corpus import stopwords\n",
    "\n",
    "stop_words = stopwords.words('english')\n",
    "print(stop_words[:20])"
   ]
  },
  {
   "cell_type": "code",
   "execution_count": 20,
   "id": "85ee8279",
   "metadata": {},
   "outputs": [
    {
     "name": "stdout",
     "output_type": "stream",
     "text": [
      "                                            headline  label\n",
      "0  Immigration to Boost US GDP by 7 Trillion Over...      1\n",
      "1  Trumps remarkably dishonest acceptance speech ...     -1\n",
      "2  Why wont George W Bush talk publicly about Don...      0\n",
      "3  Agency in crisis Secret Service has decadeold ...      0\n",
      "4  Menendez Conviction Is a Rare Public Corruptio...      0\n"
     ]
    }
   ],
   "source": [
    "import pandas as pd\n",
    "import string\n",
    "\n",
    "# Load the CSV file\n",
    "file_path = r'C:\\Users\\coolb\\Desktop\\AI\\Sem 2\\Infra\\reddit_headlines_labels.csv'\n",
    "df = pd.read_csv(file_path)\n",
    "\n",
    "# Function to remove punctuation from a given text\n",
    "def remove_punctuation(text):\n",
    "    return text.translate(str.maketrans('', '', string.punctuation))\n",
    "\n",
    "# Apply the function to the 'headline' column\n",
    "df['headline'] = df['headline'].apply(remove_punctuation)\n",
    "\n",
    "# Display the first few rows of the modified dataframe\n",
    "print(df.head())\n",
    "\n",
    "# Save the modified dataframe to a new CSV file\n",
    "output_file_path = r'C:\\Users\\coolb\\Desktop\\AI\\Sem 2\\Infra\\reddit_headlines_labels_no_punctuation.csv'\n",
    "df.to_csv(output_file_path, index=False)\n"
   ]
  },
  {
   "cell_type": "code",
   "execution_count": null,
   "id": "f95fd17a",
   "metadata": {},
   "outputs": [],
   "source": []
  }
 ],
 "metadata": {
  "kernelspec": {
   "display_name": "Python 3 (ipykernel)",
   "language": "python",
   "name": "python3"
  },
  "language_info": {
   "codemirror_mode": {
    "name": "ipython",
    "version": 3
   },
   "file_extension": ".py",
   "mimetype": "text/x-python",
   "name": "python",
   "nbconvert_exporter": "python",
   "pygments_lexer": "ipython3",
   "version": "3.10.9"
  }
 },
 "nbformat": 4,
 "nbformat_minor": 5
}
